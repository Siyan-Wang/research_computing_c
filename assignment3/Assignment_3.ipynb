{
 "cells": [
  {
   "cell_type": "markdown",
   "metadata": {},
   "source": [
    "# Homework: Introduction to Python \n",
    "\n",
    "**Due: Thursday, Sept. 21**\n",
    "\n",
    "Your assignment should be handed in an ipython notebook checked into your github repository.\n",
    "\n",
    "## Optional But Recommended Reading\n",
    "\n",
    "Read the official [Python Tutorial](https://docs.python.org/3/tutorial/index.html) sections 1-5. This excellent, well written tutorial introduces all of the most important concepts of the core python language and its standard library. Even if you don't read it, you should know where to find it; if you get stuck, it should be your first place to turn for help.\n",
    "\n",
    "## Constraints\n",
    "\n",
    "* This assignment should be done in _basic python_: don't `import` any extra modules unless specifically instructed to do so.\n",
    "* You should work on this assignment _alone_. \n",
    "* Try to do the problems yourself. Refer to the lecture notes and the [Python Tutorial](https://docs.python.org/3/tutorial/index.html) if you get stuck. Avoid random googling and stack-overflowing. A perfect solution is less important than the process of figuring it out yourself.\n",
    "\n"
   ]
  },
  {
   "cell_type": "markdown",
   "metadata": {},
   "source": [
    "## 1. Dictionaries and Strings"
   ]
  },
  {
   "cell_type": "markdown",
   "metadata": {},
   "source": [
    "In this section we will explore a [dictionary](https://docs.python.org/3/tutorial/datastructures.html#dictionaries) whose keys and values are [strings](https://docs.python.org/3/tutorial/introduction.html#strings). \n",
    "\n",
    "Cut and paste the following code to read a data file. (You are not expected to understand exactly what is happening here...it's just a quick way for us to get some data into python.)\n",
    "\n",
    "    import pickle\n",
    "    with open('class_names.pkl', 'rb') as file:\n",
    "        data = pickle.load(file)\n",
    "\n",
    "This will load some pre-generated data into the variable `data`. "
   ]
  },
  {
   "cell_type": "code",
   "execution_count": 29,
   "metadata": {
    "collapsed": true
   },
   "outputs": [],
   "source": [
    "import pickle\n",
    "with open('class_names.pkl', 'rb') as file:\n",
    "    data = pickle.load(file)"
   ]
  },
  {
   "cell_type": "markdown",
   "metadata": {},
   "source": [
    "### 1.1 Examine the data by allowing the notebook to print it\n",
    "(Just enter `data` on the last line of the cell and execute it.)"
   ]
  },
  {
   "cell_type": "code",
   "execution_count": 30,
   "metadata": {},
   "outputs": [
    {
     "data": {
      "text/plain": [
       "{'akb2134': 'Bozack, Anne',\n",
       " 'cjc2252': 'Carchedi, Christopher',\n",
       " 'cjc2256': 'Chesley, Christine',\n",
       " 'cjm2246': 'Martinez-Zayas, Carlos',\n",
       " 'cp2850': 'Peltier, Carly',\n",
       " 'cr2630': 'Raymond, Colin',\n",
       " 'csl2164': 'Lesk, Corey',\n",
       " 'djk2120': 'Kennedy, Daniel',\n",
       " 'dpb2141': 'Babin, Daniel',\n",
       " 'ehc2150': 'Case, Elizabeth',\n",
       " 'jg3223': 'Guo, Jean',\n",
       " 'jwd2136': 'Doss-Gollin, James',\n",
       " 'lkg2133': 'Gruenburg, Laura',\n",
       " 'map2251': 'Pascolini-Campbell, Madeleine',\n",
       " 'meg2203': 'Gemma, Marina',\n",
       " 'mmf2171': 'Frenkel, Megan',\n",
       " 'njl2134': 'Lenssen, Nathan',\n",
       " 'nr2447': 'Ramesh, Nandini',\n",
       " 'rae2148': 'Esparzagamez, Ricardo',\n",
       " 'sb3210': 'Baek, Seung Hun',\n",
       " 'scw2148': 'Wong, Suki',\n",
       " 'sel2172': 'Lytle, Sara',\n",
       " 'sw2936': 'Wang, Siyan',\n",
       " 'tpj2104': 'Janoski, Tyler',\n",
       " 'tz2218': 'Zhang, Tianbo',\n",
       " 'ukm2103': 'Miller, Una',\n",
       " 'xj2176': 'Jin, Xiaomeng',\n",
       " 'yh3019': 'Huang, Yu'}"
      ]
     },
     "execution_count": 30,
     "metadata": {},
     "output_type": "execute_result"
    }
   ],
   "source": [
    "data"
   ]
  },
  {
   "cell_type": "markdown",
   "metadata": {},
   "source": [
    "## 1.2 Comare to the output of `print(data)`\n",
    "Which one is prettier?"
   ]
  },
  {
   "cell_type": "code",
   "execution_count": 31,
   "metadata": {},
   "outputs": [
    {
     "name": "stdout",
     "output_type": "stream",
     "text": [
      "{'dpb2141': 'Babin, Daniel', 'sb3210': 'Baek, Seung Hun', 'akb2134': 'Bozack, Anne', 'cjc2252': 'Carchedi, Christopher', 'ehc2150': 'Case, Elizabeth', 'cjc2256': 'Chesley, Christine', 'jwd2136': 'Doss-Gollin, James', 'rae2148': 'Esparzagamez, Ricardo', 'mmf2171': 'Frenkel, Megan', 'meg2203': 'Gemma, Marina', 'lkg2133': 'Gruenburg, Laura', 'jg3223': 'Guo, Jean', 'yh3019': 'Huang, Yu', 'tpj2104': 'Janoski, Tyler', 'xj2176': 'Jin, Xiaomeng', 'djk2120': 'Kennedy, Daniel', 'njl2134': 'Lenssen, Nathan', 'csl2164': 'Lesk, Corey', 'sel2172': 'Lytle, Sara', 'cjm2246': 'Martinez-Zayas, Carlos', 'ukm2103': 'Miller, Una', 'map2251': 'Pascolini-Campbell, Madeleine', 'cp2850': 'Peltier, Carly', 'nr2447': 'Ramesh, Nandini', 'cr2630': 'Raymond, Colin', 'sw2936': 'Wang, Siyan', 'scw2148': 'Wong, Suki', 'tz2218': 'Zhang, Tianbo'}\n"
     ]
    }
   ],
   "source": [
    "print (data)\n",
    "#of course the last one (enter 'data' directly) is prettier"
   ]
  },
  {
   "cell_type": "markdown",
   "metadata": {},
   "source": [
    "### 1.3 Determine what type of object is `data`"
   ]
  },
  {
   "cell_type": "code",
   "execution_count": 32,
   "metadata": {},
   "outputs": [
    {
     "data": {
      "text/plain": [
       "dict"
      ]
     },
     "execution_count": 32,
     "metadata": {},
     "output_type": "execute_result"
    }
   ],
   "source": [
    "type(data)\n",
    "#data is a dictionary"
   ]
  },
  {
   "cell_type": "markdown",
   "metadata": {},
   "source": [
    "### 1.4 Use python's built-in `help` function to find out what operations are available on `data`\n",
    "(What is the meaning of the methods that start with \\__?)"
   ]
  },
  {
   "cell_type": "code",
   "execution_count": 33,
   "metadata": {
    "collapsed": true,
    "scrolled": false
   },
   "outputs": [],
   "source": [
    "#data?\n",
    "#_? means activate the built-in help function to find out what operations are available on data"
   ]
  },
  {
   "cell_type": "markdown",
   "metadata": {},
   "source": [
    "By now it should be clear that `data` is a [dict](https://docs.python.org/3/library/stdtypes.html#mapping-types-dict)  (i.e. \"dictionary\") that maps UNIs to names for all students in the class.\n",
    "\n",
    "For the remaining questions, the point is to _have python tell you the answer_. (Obviously you could just manually count / sort the data, but that defeats the purpose!)\n",
    "\n",
    "### 1.5 How many entries are there in `data`"
   ]
  },
  {
   "cell_type": "code",
   "execution_count": 34,
   "metadata": {},
   "outputs": [
    {
     "data": {
      "text/plain": [
       "28"
      ]
     },
     "execution_count": 34,
     "metadata": {},
     "output_type": "execute_result"
    }
   ],
   "source": [
    "len(data)"
   ]
  },
  {
   "cell_type": "markdown",
   "metadata": {},
   "source": [
    "### 1.6 Is your UNI in `data`?"
   ]
  },
  {
   "cell_type": "code",
   "execution_count": 35,
   "metadata": {},
   "outputs": [
    {
     "data": {
      "text/plain": [
       "True"
      ]
     },
     "execution_count": 35,
     "metadata": {},
     "output_type": "execute_result"
    }
   ],
   "source": [
    "'sw2936' in data"
   ]
  },
  {
   "cell_type": "markdown",
   "metadata": {},
   "source": [
    "### 1.7 How many total times does the character \"s\" appear in the names?\n",
    "Do this in a way that is not case sensitive,"
   ]
  },
  {
   "cell_type": "code",
   "execution_count": 36,
   "metadata": {},
   "outputs": [
    {
     "data": {
      "text/plain": [
       "20"
      ]
     },
     "execution_count": 36,
     "metadata": {},
     "output_type": "execute_result"
    }
   ],
   "source": [
    "def search(d,searchfor):\n",
    "    count=0\n",
    "    for k in d: \n",
    "        for v in d[k]:  #search for the letter of interest in each value and do it letter by letter\n",
    "            if searchfor.lower() in v.lower():\n",
    "                count=count+1\n",
    "    return count\n",
    "\n",
    "\n",
    "search (data,'S')"
   ]
  },
  {
   "cell_type": "markdown",
   "metadata": {},
   "source": [
    "### 1.7 Create a new dictionary that contains the same keys but only the first names as values"
   ]
  },
  {
   "cell_type": "code",
   "execution_count": 37,
   "metadata": {},
   "outputs": [
    {
     "data": {
      "text/plain": [
       "{'akb2134': ' Anne',\n",
       " 'cjc2252': ' Christopher',\n",
       " 'cjc2256': ' Christine',\n",
       " 'cjm2246': ' Carlos',\n",
       " 'cp2850': ' Carly',\n",
       " 'cr2630': ' Colin',\n",
       " 'csl2164': ' Corey',\n",
       " 'djk2120': ' Daniel',\n",
       " 'dpb2141': ' Daniel',\n",
       " 'ehc2150': ' Elizabeth',\n",
       " 'jg3223': ' Jean',\n",
       " 'jwd2136': ' James',\n",
       " 'lkg2133': ' Laura',\n",
       " 'map2251': ' Madeleine',\n",
       " 'meg2203': ' Marina',\n",
       " 'mmf2171': ' Megan',\n",
       " 'njl2134': ' Nathan',\n",
       " 'nr2447': ' Nandini',\n",
       " 'rae2148': ' Ricardo',\n",
       " 'sb3210': ' Seung Hun',\n",
       " 'scw2148': ' Suki',\n",
       " 'sel2172': ' Sara',\n",
       " 'sw2936': ' Siyan',\n",
       " 'tpj2104': ' Tyler',\n",
       " 'tz2218': ' Tianbo',\n",
       " 'ukm2103': ' Una',\n",
       " 'xj2176': ' Xiaomeng',\n",
       " 'yh3019': ' Yu'}"
      ]
     },
     "execution_count": 37,
     "metadata": {},
     "output_type": "execute_result"
    }
   ],
   "source": [
    "data_new=dict()\n",
    "for k, v in data.items():\n",
    "        data_new[k]=v.rsplit(',',1)[1]\n",
    "        #.rsplit() searches for the splitting string from the end of input string, and the second argument limits how many times it'll split to just once.\n",
    "        #the last square bucket indicate which part you want to retain [0] is the part before the delimiter, [1] is the counter part\n",
    "\n",
    "#examine the result        \n",
    "data_new"
   ]
  },
  {
   "cell_type": "markdown",
   "metadata": {},
   "source": [
    "### 1.8 What is the longest first name?"
   ]
  },
  {
   "cell_type": "code",
   "execution_count": 38,
   "metadata": {},
   "outputs": [
    {
     "name": "stdout",
     "output_type": "stream",
     "text": [
      "The longest first name is:  Christopher\n"
     ]
    }
   ],
   "source": [
    "def get_longest(d):        \n",
    "    mark=max(d, key=lambda k: len(d[k]))\n",
    "    return d[mark]\n",
    "\n",
    "print(\"The longest first name is:\",get_longest(data_new))"
   ]
  },
  {
   "cell_type": "markdown",
   "metadata": {},
   "source": [
    "### 1.9 Check that the first letter of each UNI matches the first letter of each first name\n",
    "(Be careful about the case.)"
   ]
  },
  {
   "cell_type": "code",
   "execution_count": 39,
   "metadata": {},
   "outputs": [],
   "source": [
    "##can be improved##\n",
    "for k, v in data_new.items():\n",
    "        if k[0].lower()==v[1].lower(): pass\n",
    "        else: print (k,\"Not match with\",v)"
   ]
  },
  {
   "cell_type": "markdown",
   "metadata": {},
   "source": [
    "## 2 Lists and Numbers\n",
    "\n",
    "In this section, we will play with a [list](https://docs.python.org/3/tutorial/introduction.html#lists) of [numbers](https://docs.python.org/3/tutorial/introduction.html#numbers).\n",
    "\n",
    "Keep in mind that doing lots of numerical calculations on lists of numbers (using just core python) is somewhat awkward and inefficient. [Numpy](http://www.numpy.org/) makes this sort of work much easier; in order to appreciate numpy, however, it is useful to first do things the \"hard way\".\n",
    "\n",
    "Run this chunk of code to load some data.\n",
    "\n",
    "    with open('numbers.pkl', 'rb') as file:\n",
    "        numbers = pickle.load(file)"
   ]
  },
  {
   "cell_type": "code",
   "execution_count": 40,
   "metadata": {
    "collapsed": true
   },
   "outputs": [],
   "source": [
    "with open('numbers.pkl', 'rb') as file:\n",
    "    numbers = pickle.load(file)"
   ]
  },
  {
   "cell_type": "markdown",
   "metadata": {},
   "source": [
    "### 2.1 Confirm that `numbers` is indeed a list"
   ]
  },
  {
   "cell_type": "code",
   "execution_count": 41,
   "metadata": {},
   "outputs": [
    {
     "data": {
      "text/plain": [
       "list"
      ]
     },
     "execution_count": 41,
     "metadata": {},
     "output_type": "execute_result"
    }
   ],
   "source": [
    "type(numbers)"
   ]
  },
  {
   "cell_type": "markdown",
   "metadata": {},
   "source": [
    "### 2.2 How many items are in `numbers`?"
   ]
  },
  {
   "cell_type": "code",
   "execution_count": 42,
   "metadata": {},
   "outputs": [
    {
     "data": {
      "text/plain": [
       "2519"
      ]
     },
     "execution_count": 42,
     "metadata": {},
     "output_type": "execute_result"
    }
   ],
   "source": [
    "len(numbers)"
   ]
  },
  {
   "cell_type": "markdown",
   "metadata": {},
   "source": [
    "### 2.3 What is the difference between the first and last values?"
   ]
  },
  {
   "cell_type": "code",
   "execution_count": 43,
   "metadata": {},
   "outputs": [
    {
     "name": "stdout",
     "output_type": "stream",
     "text": [
      "The difference between the first and last value is -8827.208984375\n"
     ]
    }
   ],
   "source": [
    "print (\"The difference between the first and last value is\",numbers[0]-numbers[-1])"
   ]
  },
  {
   "cell_type": "markdown",
   "metadata": {},
   "source": [
    "### 2.4 What are thre first five and last five items?"
   ]
  },
  {
   "cell_type": "code",
   "execution_count": 44,
   "metadata": {},
   "outputs": [
    {
     "name": "stdout",
     "output_type": "stream",
     "text": [
      "The first five numbers are [13291.650390625, 13424.8798828125, 13442.51953125, 13403.419921875, 13739.3896484375]\n",
      "The last five numbers are [21807.640625, 21784.779296875, 21797.7890625, 22057.369140625, 22118.859375]\n"
     ]
    }
   ],
   "source": [
    "#first five\n",
    "print (\"The first five numbers are\",numbers[:5])\n",
    "#last five\n",
    "print (\"The last five numbers are\",numbers[-5:])"
   ]
  },
  {
   "cell_type": "markdown",
   "metadata": {},
   "source": [
    "### 2.5 What is the type of the first item? Confirm that all items have the same type."
   ]
  },
  {
   "cell_type": "code",
   "execution_count": 45,
   "metadata": {},
   "outputs": [
    {
     "name": "stdout",
     "output_type": "stream",
     "text": [
      "The type of the first item in numbers is <class 'float'>\n"
     ]
    },
    {
     "data": {
      "text/plain": [
       "True"
      ]
     },
     "execution_count": 45,
     "metadata": {},
     "output_type": "execute_result"
    }
   ],
   "source": [
    "print (\"The type of the first item in numbers is\",type(numbers[0]))\n",
    "all(isinstance(x,float) for x in numbers) #if true, then all the items in the list have the same type"
   ]
  },
  {
   "cell_type": "markdown",
   "metadata": {},
   "source": [
    "### 2.6 What are the minimum and maximum values in `numbers`?"
   ]
  },
  {
   "cell_type": "code",
   "execution_count": 46,
   "metadata": {},
   "outputs": [
    {
     "name": "stdout",
     "output_type": "stream",
     "text": [
      "The maximum is 22118.859375\n",
      "The minimum is 6547.0498046875\n"
     ]
    }
   ],
   "source": [
    "print(\"The maximum is\",max(numbers))\n",
    "print(\"The minimum is\",min(numbers))"
   ]
  },
  {
   "cell_type": "markdown",
   "metadata": {},
   "source": [
    "### 2.7 What is the mean value?"
   ]
  },
  {
   "cell_type": "code",
   "execution_count": 47,
   "metadata": {},
   "outputs": [
    {
     "name": "stdout",
     "output_type": "stream",
     "text": [
      "The mean is 14174.955465222125\n"
     ]
    }
   ],
   "source": [
    "mean_numbers=sum(numbers)/len(numbers)\n",
    "print(\"The mean is\",mean_numbers)"
   ]
  },
  {
   "cell_type": "markdown",
   "metadata": {},
   "source": [
    "### 2.8 What is the standard deviation?"
   ]
  },
  {
   "cell_type": "code",
   "execution_count": 48,
   "metadata": {},
   "outputs": [
    {
     "name": "stdout",
     "output_type": "stream",
     "text": [
      "The standard deviation is 3568.729182942298\n"
     ]
    }
   ],
   "source": [
    "sd_numbers=(sum((x-mean_numbers)**2 for x in numbers)/len(numbers))**0.5\n",
    "print(\"The standard deviation is\",sd_numbers)"
   ]
  },
  {
   "cell_type": "markdown",
   "metadata": {},
   "source": [
    "### 2.9 What is the largest (most positive) and smallest (most negative)  _change_ from one value to the next"
   ]
  },
  {
   "cell_type": "code",
   "execution_count": 49,
   "metadata": {},
   "outputs": [
    {
     "name": "stdout",
     "output_type": "stream",
     "text": [
      "The most positive change is 936.419921875\n",
      "The most negative change is  -777.6796875\n"
     ]
    }
   ],
   "source": [
    "#difference between two near value\n",
    "diff=[numbers[x+1]-numbers[x] for x in range(len(numbers)-1)]\n",
    "#the most positive change\n",
    "print (\"The most positive change is\",max(diff))\n",
    "#the most negative change\n",
    "print (\"The most negative change is \",min(diff))"
   ]
  },
  {
   "cell_type": "markdown",
   "metadata": {},
   "source": [
    "### Bonus: can you guess the source of these numbers?"
   ]
  },
  {
   "cell_type": "code",
   "execution_count": 50,
   "metadata": {},
   "outputs": [
    {
     "data": {
      "text/plain": [
       "[<matplotlib.lines.Line2D at 0x1128cce48>]"
      ]
     },
     "execution_count": 50,
     "metadata": {},
     "output_type": "execute_result"
    },
    {
     "data": {
      "image/png": "[encoded data removed]",
      "text/plain": [
       "<matplotlib.figure.Figure at 0x11290c940>"
      ]
     },
     "metadata": {},
     "output_type": "display_data"
    }
   ],
   "source": [
    "#To better understand what is the source of these number, I have to use other module to plot it out, but it's bonus anyway.\n",
    "%matplotlib inline\n",
    "import matplotlib.pyplot as plt\n",
    "\n",
    "fig = plt.figure()\n",
    "axes = fig.add_subplot(1, 1, 1)\n",
    "axes.plot(numbers, 'b')\n",
    "\n",
    "##Still have no idea what is it. But I guess it might relates to Ryan's research topic, maybe a parameter associate with ocean."
   ]
  },
  {
   "cell_type": "markdown",
   "metadata": {},
   "source": [
    "## 3 Lists vs. Tuples\n",
    "\n",
    "The difference between [lists](https://docs.python.org/3/tutorial/datastructures.html#more-on-lists) and [tuples](https://docs.python.org/3/tutorial/datastructures.html#tuples-and-sequences) is a persistent source of confusion about python. The key difference is that **lists are mutable** while **tuples are immutable**. This short exercise is designed to help you understand what this means."
   ]
  },
  {
   "cell_type": "markdown",
   "metadata": {},
   "source": [
    "### 3.1 Create a list of the first three planets in the solar system"
   ]
  },
  {
   "cell_type": "code",
   "execution_count": 51,
   "metadata": {
    "collapsed": true
   },
   "outputs": [],
   "source": [
    "planets=['Mercury','Venus','Earth']"
   ]
  },
  {
   "cell_type": "markdown",
   "metadata": {
    "collapsed": true
   },
   "source": [
    "### 3.2 Append the fourth planet to the end of the list\n",
    "(Print the list so you can verify its contents after every modification)"
   ]
  },
  {
   "cell_type": "code",
   "execution_count": 52,
   "metadata": {},
   "outputs": [
    {
     "data": {
      "text/plain": [
       "['Mercury', 'Venus', 'Earth', 'Mars']"
      ]
     },
     "execution_count": 52,
     "metadata": {},
     "output_type": "execute_result"
    }
   ],
   "source": [
    "planets.append('Mars')\n",
    "planets"
   ]
  },
  {
   "cell_type": "markdown",
   "metadata": {},
   "source": [
    "### 3.3 Venus has exploded. Remove it from the list"
   ]
  },
  {
   "cell_type": "code",
   "execution_count": 53,
   "metadata": {},
   "outputs": [
    {
     "data": {
      "text/plain": [
       "['Mercury', 'Earth', 'Mars']"
      ]
     },
     "execution_count": 53,
     "metadata": {},
     "output_type": "execute_result"
    }
   ],
   "source": [
    "planets.pop(planets.index('Venus'))\n",
    "planets"
   ]
  },
  {
   "cell_type": "markdown",
   "metadata": {},
   "source": [
    "### 3.4 Convert the last item of your list to upper case"
   ]
  },
  {
   "cell_type": "code",
   "execution_count": 54,
   "metadata": {},
   "outputs": [
    {
     "data": {
      "text/plain": [
       "'MARS'"
      ]
     },
     "execution_count": 54,
     "metadata": {},
     "output_type": "execute_result"
    }
   ],
   "source": [
    "planets[-1].upper()"
   ]
  },
  {
   "cell_type": "markdown",
   "metadata": {},
   "source": [
    "### 3.5 Create a tuple of the first three planets in the solar system"
   ]
  },
  {
   "cell_type": "code",
   "execution_count": 55,
   "metadata": {},
   "outputs": [
    {
     "data": {
      "text/plain": [
       "tuple"
      ]
     },
     "execution_count": 55,
     "metadata": {},
     "output_type": "execute_result"
    }
   ],
   "source": [
    "planets_t='Mercury','Venus','Earth'\n",
    "type(planets_t)"
   ]
  },
  {
   "cell_type": "markdown",
   "metadata": {},
   "source": [
    "### 3.6 Try to append or remove items from the tuple\n",
    "Go ahead, try it! I dare you!"
   ]
  },
  {
   "cell_type": "code",
   "execution_count": 57,
   "metadata": {},
   "outputs": [],
   "source": [
    "#planets_t[4]='Mars'\n",
    "#cannot add or append item in tuple"
   ]
  },
  {
   "cell_type": "markdown",
   "metadata": {},
   "source": [
    "### 3.7 Create a new tuple by concatenating a second tuple to your original tuple\n",
    "(No loops needed). It should work. Check your original tuple. Did it change?"
   ]
  },
  {
   "cell_type": "code",
   "execution_count": 58,
   "metadata": {},
   "outputs": [
    {
     "name": "stdout",
     "output_type": "stream",
     "text": [
      "(('Mercury', 'Venus', 'Earth'), 'Mars')\n",
      "('Mercury', 'Venus', 'Earth')\n"
     ]
    }
   ],
   "source": [
    "##need to be revised\n",
    "planets_t_new=planets_t,'Mars'\n",
    "print(planets_t_new)\n",
    "print(planets_t) #the original tuple did not change"
   ]
  },
  {
   "cell_type": "markdown",
   "metadata": {},
   "source": [
    "## 4 Standard Library: `datetime`\n",
    "\n",
    "Basic python comes with a powerful [\"standard library\"](https://docs.python.org/3/tutorial/stdlib.html) of modules which help you do useful things like interact with the operating system, perform complex pattern matching on strings using regular expressions, and open network connections. This standard library is too big for us to learn every module: the point here is just to be aware that it exists.\n",
    "\n",
    "In this exercise we will also explore a simple but powerful module from python's standard library: the [`datetime` module](https://docs.python.org/3/tutorial/stdlib.html#dates-and-times)."
   ]
  },
  {
   "cell_type": "markdown",
   "metadata": {},
   "source": [
    "### 4.1 Import the datetime module"
   ]
  },
  {
   "cell_type": "code",
   "execution_count": 59,
   "metadata": {
    "collapsed": true
   },
   "outputs": [],
   "source": [
    "import datetime"
   ]
  },
  {
   "cell_type": "markdown",
   "metadata": {},
   "source": [
    "### 4.2 Read the built-in help on `datetime.date` and `datetime.timedelta`\n",
    "\n",
    "These are the two functions we will be using from the `datetime` module."
   ]
  },
  {
   "cell_type": "code",
   "execution_count": 74,
   "metadata": {},
   "outputs": [],
   "source": [
    "help(datetime.date)"
   ]
  },
  {
   "cell_type": "code",
   "execution_count": 75,
   "metadata": {},
   "outputs": [],
   "source": [
    "help(datetime.timedelta)"
   ]
  },
  {
   "cell_type": "markdown",
   "metadata": {},
   "source": [
    "### 4.3 Create a `datetime.date` object for your birthday"
   ]
  },
  {
   "cell_type": "code",
   "execution_count": 62,
   "metadata": {},
   "outputs": [],
   "source": [
    "mybirth=datetime.date(year=1993,month=4,day=16)"
   ]
  },
  {
   "cell_type": "markdown",
   "metadata": {},
   "source": [
    "### 4.4 What day of the week was your birthday on?"
   ]
  },
  {
   "cell_type": "code",
   "execution_count": 63,
   "metadata": {},
   "outputs": [
    {
     "data": {
      "text/plain": [
       "5"
      ]
     },
     "execution_count": 63,
     "metadata": {},
     "output_type": "execute_result"
    }
   ],
   "source": [
    "mybirth.isoweekday()"
   ]
  },
  {
   "cell_type": "markdown",
   "metadata": {
    "collapsed": true
   },
   "source": [
    "### 4.5 Find out how many days have elapsed since your birthday?"
   ]
  },
  {
   "cell_type": "code",
   "execution_count": 64,
   "metadata": {},
   "outputs": [
    {
     "data": {
      "text/plain": [
       "datetime.timedelta(8923)"
      ]
     },
     "execution_count": 64,
     "metadata": {},
     "output_type": "execute_result"
    }
   ],
   "source": [
    "datetime.date.today()-mybirth"
   ]
  },
  {
   "cell_type": "markdown",
   "metadata": {},
   "source": [
    "## 5 Functions\n",
    "\n",
    "Learning to write our own [functions](https://docs.python.org/3/tutorial/controlflow.html#defining-functions) is an important step towards writing more sophisticated programs. Here will will practice writing functions. "
   ]
  },
  {
   "cell_type": "markdown",
   "metadata": {},
   "source": [
    "As an example, we will consider the [harmonic series](https://en.wikipedia.org/wiki/Harmonic_series_%28mathematics%29), defined as\n",
    "\n",
    "$$\n",
    "\\sum^N_{n=1}\\frac{1}{n} \n",
    "$$\n",
    "\n",
    "This series diverges logarithmically.\n",
    "\n",
    "### 5.1 Write a function to compute the value of the harmonic series up to `N` terms\n",
    "\n",
    "The function shold have one argument: `N`. It should `return` the series sum."
   ]
  },
  {
   "cell_type": "code",
   "execution_count": 65,
   "metadata": {},
   "outputs": [
    {
     "data": {
      "text/plain": [
       "2.4499999999999997"
      ]
     },
     "execution_count": 65,
     "metadata": {},
     "output_type": "execute_result"
    }
   ],
   "source": [
    "def harmonic(N):\n",
    "    y=0\n",
    "    for i in range(1,N+1):\n",
    "        y=y+(1.0/i)   \n",
    "    return y\n",
    "\n",
    "harmonic(6)"
   ]
  },
  {
   "cell_type": "markdown",
   "metadata": {},
   "source": [
    "### 5.2 What is the value of the harmonic series after 1000 and 1000000 iterations"
   ]
  },
  {
   "cell_type": "code",
   "execution_count": 66,
   "metadata": {},
   "outputs": [
    {
     "data": {
      "text/plain": [
       "7.485470860550343"
      ]
     },
     "execution_count": 66,
     "metadata": {},
     "output_type": "execute_result"
    }
   ],
   "source": [
    "harmonic(1000)"
   ]
  },
  {
   "cell_type": "code",
   "execution_count": 67,
   "metadata": {},
   "outputs": [
    {
     "data": {
      "text/plain": [
       "14.392726722864989"
      ]
     },
     "execution_count": 67,
     "metadata": {},
     "output_type": "execute_result"
    }
   ],
   "source": [
    "harmonic(1000000)"
   ]
  },
  {
   "cell_type": "markdown",
   "metadata": {},
   "source": [
    "The alternating harmonic series:\n",
    "    \n",
    "$$\n",
    "\\sum^N_{n=1}\\frac{(-1)^{n+1}}{n} \n",
    "$$\n",
    "\n",
    "_does_ converge.\n",
    "\n",
    "### 5.3 Write a function to compute the value of the alternating  harmonic series up to `N` terms"
   ]
  },
  {
   "cell_type": "code",
   "execution_count": 68,
   "metadata": {},
   "outputs": [
    {
     "data": {
      "text/plain": [
       "0.6166666666666666"
      ]
     },
     "execution_count": 68,
     "metadata": {},
     "output_type": "execute_result"
    }
   ],
   "source": [
    "def al_harmonic(N):\n",
    "    y=0\n",
    "    for i in range(1,N+1):\n",
    "        y=y+(((-1.0)**(i+1))/i)   \n",
    "    return y\n",
    "\n",
    "al_harmonic(6)"
   ]
  },
  {
   "cell_type": "markdown",
   "metadata": {},
   "source": [
    "### 5.2 What is the value of the alternating harmonic series after 1000 and 1000000 iterations"
   ]
  },
  {
   "cell_type": "code",
   "execution_count": 69,
   "metadata": {},
   "outputs": [
    {
     "data": {
      "text/plain": [
       "0.6926474305598223"
      ]
     },
     "execution_count": 69,
     "metadata": {},
     "output_type": "execute_result"
    }
   ],
   "source": [
    "al_harmonic(1000)"
   ]
  },
  {
   "cell_type": "code",
   "execution_count": 70,
   "metadata": {},
   "outputs": [
    {
     "data": {
      "text/plain": [
       "0.6931466805602525"
      ]
     },
     "execution_count": 70,
     "metadata": {},
     "output_type": "execute_result"
    }
   ],
   "source": [
    "al_harmonic(1000000)"
   ]
  },
  {
   "cell_type": "markdown",
   "metadata": {},
   "source": [
    "### 5.3 Numerical convergence test\n",
    "\n",
    "Now for something more complicated: we will write a function that tests whether another function converges. As its first argument, this function should accept _another function_. It should also have _optional keyword arguments_ that specify\n",
    "\n",
    "* the numerical tolerance (how close is close enough to consider a series converged?)\n",
    "* the number of iterations (we can't iterate an infinite number of times, we just have to pick a \"large number\")\n",
    "\n",
    "This function should print a statement telling what it found. If the test function converges, print the value it converges to.\n",
    "\n",
    "_(Hint: the alernating harmonic series oscillates strongly around the asymptotic value. So checking neighboring points may not be the best way to test for convergence. Can you think of a more robust method?)_"
   ]
  },
  {
   "cell_type": "code",
   "execution_count": 71,
   "metadata": {},
   "outputs": [],
   "source": [
    "def convergence_test(test_function,tolerance,iters):\n",
    "    summation=0\n",
    "    for n in range(1,iters+1):\n",
    "        summation += test_function(n)  \n",
    "    ave=summation/iters   #take the average of values from n=1 to n=(iteration times as you indicated) as a reference for convergence\n",
    "    if test_function(iters)-ave< tolerance: print (\"This fuction converge to\",ave)\n",
    "    else: print ('This function is divergent')"
   ]
  },
  {
   "cell_type": "markdown",
   "metadata": {},
   "source": [
    "### 5.3 Use your convergence test function see that the harmonic series diverges and the alternating harmonic series converges?\n",
    "\n",
    "Explore the sensitivity to the two optional parameters. What are the tradeoffs between tolerance and number of iterations?"
   ]
  },
  {
   "cell_type": "code",
   "execution_count": 72,
   "metadata": {},
   "outputs": [
    {
     "name": "stdout",
     "output_type": "stream",
     "text": [
      "This fuction converge to 0.6935324769190612\n"
     ]
    }
   ],
   "source": [
    "#test1: test if the alernating harmonic series converge, with tolerance as 1e-5 and iteration of 500 times\n",
    "convergence_test(al_harmonic,1e-5,500)"
   ]
  },
  {
   "cell_type": "code",
   "execution_count": 73,
   "metadata": {},
   "outputs": [
    {
     "name": "stdout",
     "output_type": "stream",
     "text": [
      "This function is divergent\n"
     ]
    }
   ],
   "source": [
    "#test2: test if the harmonic series converge, with tolerance as 1e-5 and iteration of 500 times\n",
    "convergence_test(harmonic,1e-5,500)"
   ]
  }
 ],
 "metadata": {
  "kernelspec": {
   "display_name": "Python 3",
   "language": "python",
   "name": "python3"
  },
  "language_info": {
   "codemirror_mode": {
    "name": "ipython",
    "version": 3
   },
   "file_extension": ".py",
   "mimetype": "text/x-python",
   "name": "python",
   "nbconvert_exporter": "python",
   "pygments_lexer": "ipython3",
   "version": "3.6.1"
  }
 },
 "nbformat": 4,
 "nbformat_minor": 2
}
