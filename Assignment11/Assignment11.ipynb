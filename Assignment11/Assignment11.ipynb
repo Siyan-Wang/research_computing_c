{
 "cells": [
  {
   "cell_type": "code",
   "execution_count": 3,
   "metadata": {},
   "outputs": [
    {
     "name": "stdout",
     "output_type": "stream",
     "text": [
      " Number of terms in series:  100000\n",
      " Ending value of series:  0.6931421805849816\n",
      " Elapsed time:  0.05890398798510432\n"
     ]
    }
   ],
   "source": [
    "import numpy as np\n",
    "from timeit import default_timer as timer\n",
    "\n",
    "def alternating_harmonic_series(N):\n",
    "    val = 0.\n",
    "    for n in range(1, N+1):\n",
    "        val += (-1)**(n+1) / n\n",
    "    return val\n",
    "\n",
    "start = timer()\n",
    "N     = 100000\n",
    "value = alternating_harmonic_series(N)\n",
    "stop  = timer()\n",
    "\n",
    "print(' Number of terms in series: ',N)\n",
    "print(' Ending value of series: ',value)\n",
    "print(' Elapsed time: ',stop-start)"
   ]
  },
  {
   "cell_type": "markdown",
   "metadata": {},
   "source": [
    "### plotting"
   ]
  },
  {
   "cell_type": "code",
   "execution_count": 1,
   "metadata": {
    "collapsed": true
   },
   "outputs": [],
   "source": [
    "import pandas as pd\n",
    "data=pd.read_excel(\"/Users/admin/Desktop/research_computing/Assignment11/habanero_time.xlsx\",header=0)\n",
    "data.columns=[\"processes\",\"run1\",\"run2\",\"run3\",\"run4\",\"run5\"]"
   ]
  },
  {
   "cell_type": "code",
   "execution_count": 2,
   "metadata": {
    "collapsed": true
   },
   "outputs": [],
   "source": [
    "from matplotlib import pyplot as plt"
   ]
  },
  {
   "cell_type": "code",
   "execution_count": 3,
   "metadata": {},
   "outputs": [
    {
     "data": {
      "text/html": [
       "<div>\n",
       "<style>\n",
       "    .dataframe thead tr:only-child th {\n",
       "        text-align: right;\n",
       "    }\n",
       "\n",
       "    .dataframe thead th {\n",
       "        text-align: left;\n",
       "    }\n",
       "\n",
       "    .dataframe tbody tr th {\n",
       "        vertical-align: top;\n",
       "    }\n",
       "</style>\n",
       "<table border=\"1\" class=\"dataframe\">\n",
       "  <thead>\n",
       "    <tr style=\"text-align: right;\">\n",
       "      <th></th>\n",
       "      <th>processes</th>\n",
       "      <th>run1</th>\n",
       "      <th>run2</th>\n",
       "      <th>run3</th>\n",
       "      <th>run4</th>\n",
       "      <th>run5</th>\n",
       "    </tr>\n",
       "  </thead>\n",
       "  <tbody>\n",
       "    <tr>\n",
       "      <th>0</th>\n",
       "      <td>1</td>\n",
       "      <td>45.847582</td>\n",
       "      <td>46.522933</td>\n",
       "      <td>45.951909</td>\n",
       "      <td>45.996671</td>\n",
       "      <td>47.244637</td>\n",
       "    </tr>\n",
       "    <tr>\n",
       "      <th>1</th>\n",
       "      <td>2</td>\n",
       "      <td>23.003970</td>\n",
       "      <td>23.138384</td>\n",
       "      <td>23.018290</td>\n",
       "      <td>23.152662</td>\n",
       "      <td>22.958192</td>\n",
       "    </tr>\n",
       "    <tr>\n",
       "      <th>2</th>\n",
       "      <td>3</td>\n",
       "      <td>15.365304</td>\n",
       "      <td>16.577695</td>\n",
       "      <td>15.338492</td>\n",
       "      <td>15.375585</td>\n",
       "      <td>16.488614</td>\n",
       "    </tr>\n",
       "    <tr>\n",
       "      <th>3</th>\n",
       "      <td>6</td>\n",
       "      <td>8.288550</td>\n",
       "      <td>9.712997</td>\n",
       "      <td>8.545949</td>\n",
       "      <td>9.267882</td>\n",
       "      <td>8.727550</td>\n",
       "    </tr>\n",
       "    <tr>\n",
       "      <th>4</th>\n",
       "      <td>12</td>\n",
       "      <td>4.984906</td>\n",
       "      <td>5.089175</td>\n",
       "      <td>4.988764</td>\n",
       "      <td>4.499505</td>\n",
       "      <td>4.531615</td>\n",
       "    </tr>\n",
       "  </tbody>\n",
       "</table>\n",
       "</div>"
      ],
      "text/plain": [
       "   processes       run1       run2       run3       run4       run5\n",
       "0          1  45.847582  46.522933  45.951909  45.996671  47.244637\n",
       "1          2  23.003970  23.138384  23.018290  23.152662  22.958192\n",
       "2          3  15.365304  16.577695  15.338492  15.375585  16.488614\n",
       "3          6   8.288550   9.712997   8.545949   9.267882   8.727550\n",
       "4         12   4.984906   5.089175   4.988764   4.499505   4.531615"
      ]
     },
     "execution_count": 3,
     "metadata": {},
     "output_type": "execute_result"
    }
   ],
   "source": [
    "data.head()"
   ]
  },
  {
   "cell_type": "code",
   "execution_count": 4,
   "metadata": {
    "collapsed": true
   },
   "outputs": [],
   "source": [
    "data=data.set_index(\"processes\")"
   ]
  },
  {
   "cell_type": "code",
   "execution_count": 5,
   "metadata": {},
   "outputs": [
    {
     "data": {
      "image/png": "[encoded data removed]",
      "text/plain": [
       "<matplotlib.figure.Figure at 0x11a7b76a0>"
      ]
     },
     "metadata": {},
     "output_type": "display_data"
    }
   ],
   "source": [
    "fig, ax = plt.subplots(1,1,figsize=(10,6))\n",
    "data.plot(ax=ax,logy=True, logx=True)\n",
    "plt.xlabel(\"numbers of processes\")\n",
    "plt.ylabel(\"time\")\n",
    "plt.show()\n",
    "fig.savefig('time_scaling.pdf')"
   ]
  },
  {
   "cell_type": "code",
   "execution_count": null,
   "metadata": {
    "collapsed": true
   },
   "outputs": [],
   "source": []
  }
 ],
 "metadata": {
  "kernelspec": {
   "display_name": "Python 3",
   "language": "python",
   "name": "python3"
  },
  "language_info": {
   "codemirror_mode": {
    "name": "ipython",
    "version": 3
   },
   "file_extension": ".py",
   "mimetype": "text/x-python",
   "name": "python",
   "nbconvert_exporter": "python",
   "pygments_lexer": "ipython3",
   "version": "3.6.1"
  }
 },
 "nbformat": 4,
 "nbformat_minor": 2
}
